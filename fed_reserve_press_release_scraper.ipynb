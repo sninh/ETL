{
 "cells": [
  {
   "cell_type": "code",
   "execution_count": 80,
   "metadata": {},
   "outputs": [],
   "source": [
    "import pandas as pd\n",
    "from splinter import Browser\n",
    "from bs4 import BeautifulSoup as bs\n",
    "from webdriver_manager.chrome import ChromeDriverManager\n",
    "import time"
   ]
  },
  {
   "cell_type": "code",
   "execution_count": 81,
   "metadata": {
    "scrolled": true
   },
   "outputs": [
    {
     "name": "stderr",
     "output_type": "stream",
     "text": [
      "\n",
      "\n",
      "====== WebDriver manager ======\n",
      "Current google-chrome version is 91.0.4472\n",
      "Get LATEST driver version for 91.0.4472\n",
      "Driver [/Users/travis/.wdm/drivers/chromedriver/mac64/91.0.4472.101/chromedriver] found in cache\n"
     ]
    }
   ],
   "source": [
    "# set up splinter\n",
    "executable_path = {'executable_path': ChromeDriverManager().install()}\n",
    "browser = Browser('chrome', **executable_path, headless=False)"
   ]
  },
  {
   "cell_type": "code",
   "execution_count": 82,
   "metadata": {},
   "outputs": [],
   "source": [
    "# visit web page\n",
    "page_url = \"https://www.federalreserve.gov/newsevents/pressreleases.htm\"\n",
    "browser.visit(page_url)\n",
    "time.sleep(10)\n",
    "\n",
    "press_release_list = []\n",
    "\n",
    "# iterate through all pages\n",
    "for i in range(10):\n",
    "    \n",
    "    # create html object and scrape into soup\n",
    "    html = browser.html\n",
    "    soup = bs(html, \"html.parser\")\n",
    "\n",
    "    press_releases = soup.find_all(\"div\", \"col-xs-9 col-md-10 eventlist__event\")\n",
    "\n",
    "    for release in press_releases:\n",
    "\n",
    "        release_url = 'https://www.federalreserve.gov' + release.a['href']\n",
    "        title = release.a.text.strip()\n",
    "        category = release.b.text.strip()\n",
    "\n",
    "        release_dict = {\"url\": release_url,\n",
    "                        \"title\": title,\n",
    "                        \"category\": category\n",
    "                       }\n",
    "\n",
    "        press_release_list.append(release_dict)\n",
    "    \n",
    "    # click the 'Next' button on each page\n",
    "    try:\n",
    "        browser.links.find_by_partial_text('Next').click()\n",
    "          \n",
    "    except:\n",
    "        print(\"scraping complete\")"
   ]
  },
  {
   "cell_type": "code",
   "execution_count": 83,
   "metadata": {},
   "outputs": [
    {
     "data": {
      "text/plain": [
       "200"
      ]
     },
     "execution_count": 83,
     "metadata": {},
     "output_type": "execute_result"
    }
   ],
   "source": [
    "len(press_release_list)"
   ]
  },
  {
   "cell_type": "code",
   "execution_count": 94,
   "metadata": {},
   "outputs": [
    {
     "data": {
      "text/plain": [
       "{'url': 'https://www.federalreserve.gov/newsevents/pressreleases/monetary20210625a.htm',\n",
       " 'title': 'Federal Reserve Board announces it will extend for a final time its Paycheck Protection Program Liquidity Facility, or PPPLF, by an additional month to July 30, 2021',\n",
       " 'category': 'Monetary Policy'}"
      ]
     },
     "execution_count": 94,
     "metadata": {},
     "output_type": "execute_result"
    }
   ],
   "source": [
    "press_release_list[0]"
   ]
  },
  {
   "cell_type": "code",
   "execution_count": 90,
   "metadata": {},
   "outputs": [],
   "source": [
    "press_release_details = []\n",
    "\n",
    "for i in range(len(press_release_list)):\n",
    "    link = press_release_list[i][\"url\"]\n",
    "    \n",
    "    # visit web page\n",
    "    browser.visit(link)\n",
    "    #time.sleep(1)\n",
    "\n",
    "    # create html object and scrape into soup\n",
    "    html = browser.html\n",
    "    soup = bs(html, \"html.parser\")\n",
    "    \n",
    "    release_date = soup.find(\"div\", class_=\"heading col-xs-12 col-sm-8 col-md-8\").find(\"p\", class_=\"article__time\").text.strip()\n",
    "    release_time = soup.find(\"div\", class_=\"heading col-xs-12 col-sm-8 col-md-8\").find(\"p\", class_=\"releaseTime\").text.strip()\n",
    "\n",
    "    if release_time.endswith('EDT') or release_time.endswith('EST'):\n",
    "        release_time = release_time[-14:].strip()\n",
    "        release_time = release_time.replace(\".\", \"\")\n",
    "    else:\n",
    "        release_time = None\n",
    "\n",
    "    paragraphs = soup.find(\"div\", class_=\"col-xs-12 col-sm-8 col-md-8\").find_all(\"p\")\n",
    "    text = \"\"\n",
    "    for p in paragraphs:\n",
    "        if len(text) == 0:\n",
    "            text = p.text.strip()\n",
    "        else:\n",
    "            text = text + \"\\n\" + p.text.strip()\n",
    "    \n",
    "    details_dict = {\"url\": link,\n",
    "                    \"date\": release_date,\n",
    "                    \"time\": release_time,\n",
    "                    \"text\": text\n",
    "                   }\n",
    "    \n",
    "    press_release_details.append(details_dict)\n"
   ]
  },
  {
   "cell_type": "code",
   "execution_count": 91,
   "metadata": {},
   "outputs": [
    {
     "data": {
      "text/plain": [
       "200"
      ]
     },
     "execution_count": 91,
     "metadata": {},
     "output_type": "execute_result"
    }
   ],
   "source": [
    "len(press_release_details)"
   ]
  },
  {
   "cell_type": "code",
   "execution_count": 96,
   "metadata": {},
   "outputs": [
    {
     "data": {
      "text/plain": [
       "{'url': 'https://www.federalreserve.gov/newsevents/pressreleases/monetary20210625a.htm',\n",
       " 'date': 'June 25, 2021',\n",
       " 'time': '3:30 pm EDT',\n",
       " 'text': \"The Federal Reserve Board on Friday announced it will extend for a final time its Paycheck Protection Program Liquidity Facility, or PPPLF, by an additional month to July 30, 2021. The extension is being made as an operational accommodation to allow additional processing time for banks, community development financial institutions, and other financial institutions to pledge to the facility any Paycheck Protection Program, or PPP, loans approved by the Small Business Administration through the June 30 expiration of the PPP program.\\nThe PPPLF extends term credit to financial institutions making PPP loans, accepting the PPP loans as collateral. The liquidity provided by the PPPLF bolsters the effectiveness of the PPP by helping eligible financial institutions fund PPP loans.\\nThe PPPLF was established in April 2020 under the Board's 13(3) authority and the extension from June 30 to July 30, 2021, was approved by the Secretary of the Treasury.\\nFor media inquiries, call 202-452-2955\\nPaycheck Protection Program Liquidity Facility Term Sheet (PDF)\"}"
      ]
     },
     "execution_count": 96,
     "metadata": {},
     "output_type": "execute_result"
    }
   ],
   "source": [
    "press_release_details[0]"
   ]
  },
  {
   "cell_type": "code",
   "execution_count": null,
   "metadata": {},
   "outputs": [],
   "source": []
  }
 ],
 "metadata": {
  "kernelspec": {
   "display_name": "Python 3",
   "language": "python",
   "name": "python3"
  },
  "language_info": {
   "codemirror_mode": {
    "name": "ipython",
    "version": 3
   },
   "file_extension": ".py",
   "mimetype": "text/x-python",
   "name": "python",
   "nbconvert_exporter": "python",
   "pygments_lexer": "ipython3",
   "version": "3.8.5"
  }
 },
 "nbformat": 4,
 "nbformat_minor": 4
}